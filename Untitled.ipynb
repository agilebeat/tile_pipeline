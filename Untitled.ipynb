{
 "cells": [
  {
   "cell_type": "code",
   "execution_count": 1,
   "metadata": {},
   "outputs": [],
   "source": [
    "import os, errno\n",
    "\n",
    "def create_dir(directory):\n",
    "    try:\n",
    "        os.makedirs(directory)\n",
    "    except OSError as e:\n",
    "        if e.errno != errno.EEXIST:\n",
    "            raise"
   ]
  },
  {
   "cell_type": "code",
   "execution_count": 2,
   "metadata": {},
   "outputs": [],
   "source": [
    "def setup_directories():\n",
    "    create_dir(\"new_tiles\")\n",
    "    create_dir(\"tile_collection/Rail\")\n",
    "    create_dir(\"tile_collection/Others\")\n",
    "    from pathlib import Path\n",
    "    Path('new_tiles/archive.txt').touch()\n"
   ]
  },
  {
   "cell_type": "code",
   "execution_count": 3,
   "metadata": {},
   "outputs": [],
   "source": [
    "setup_directories()"
   ]
  },
  {
   "cell_type": "code",
   "execution_count": 4,
   "metadata": {},
   "outputs": [
    {
     "name": "stdout",
     "output_type": "stream",
     "text": [
      "/notebooks\r\n"
     ]
    }
   ],
   "source": [
    "!pwd"
   ]
  },
  {
   "cell_type": "code",
   "execution_count": 5,
   "metadata": {},
   "outputs": [
    {
     "name": "stdout",
     "output_type": "stream",
     "text": [
      "download: s3://railroadmaprover/16/64437/41039.png to new_tiles/16/64437/41039.png   \n",
      "download: s3://railroadmaprover/16/64438/41041.png to new_tiles/16/64438/41041.png\n",
      "download: s3://railroadmaprover/16/64438/41043.png to new_tiles/16/64438/41043.png\n",
      "download: s3://railroadmaprover/16/64438/41039.png to new_tiles/16/64438/41039.png\n",
      "download: s3://railroadmaprover/16/64439/41039.png to new_tiles/16/64439/41039.png\n",
      "download: s3://railroadmaprover/16/64443/41037.png to new_tiles/16/64443/41037.png\n",
      "download: s3://railroadmaprover/16/64581/41025.png to new_tiles/16/64581/41025.png\n",
      "download: s3://railroadmaprover/16/64438/41042.png to new_tiles/16/64438/41042.png\n",
      "download: s3://railroadmaprover/16/64444/41037.png to new_tiles/16/64444/41037.png\n",
      "download: s3://railroadmaprover/16/64438/41040.png to new_tiles/16/64438/41040.png\n",
      "download: s3://railroadmaprover/16/64583/41026.png to new_tiles/16/64583/41026.png\n",
      "download: s3://railroadmaprover/16/64584/41025.png to new_tiles/16/64584/41025.png\n",
      "download: s3://railroadmaprover/16/64584/41031.png to new_tiles/16/64584/41031.png\n",
      "download: s3://railroadmaprover/16/64444/41034.png to new_tiles/16/64444/41034.png\n",
      "download: s3://railroadmaprover/16/64583/41027.png to new_tiles/16/64583/41027.png\n",
      "download: s3://railroadmaprover/16/64444/41035.png to new_tiles/16/64444/41035.png\n",
      "download: s3://railroadmaprover/16/64584/41024.png to new_tiles/16/64584/41024.png\n",
      "download: s3://railroadmaprover/16/64584/41027.png to new_tiles/16/64584/41027.png\n",
      "download: s3://railroadmaprover/16/64583/41033.png to new_tiles/16/64583/41033.png\n",
      "download: s3://railroadmaprover/16/64584/41033.png to new_tiles/16/64584/41033.png\n",
      "download: s3://railroadmaprover/16/64585/41027.png to new_tiles/16/64585/41027.png\n",
      "download: s3://railroadmaprover/16/64585/41031.png to new_tiles/16/64585/41031.png\n",
      "download: s3://railroadmaprover/16/64586/41024.png to new_tiles/16/64586/41024.png\n",
      "download: s3://railroadmaprover/16/64585/41024.png to new_tiles/16/64585/41024.png\n",
      "download: s3://railroadmaprover/16/64585/41032.png to new_tiles/16/64585/41032.png\n",
      "download: s3://railroadmaprover/16/64586/41030.png to new_tiles/16/64586/41030.png\n",
      "download: s3://railroadmaprover/16/64587/41024.png to new_tiles/16/64587/41024.png\n",
      "download: s3://railroadmaprover/16/64586/41031.png to new_tiles/16/64586/41031.png\n",
      "download: s3://railroadmaprover/16/64586/41032.png to new_tiles/16/64586/41032.png\n",
      "download: s3://railroadmaprover/16/64586/41027.png to new_tiles/16/64586/41027.png\n",
      "download: s3://railroadmaprover/16/64586/41028.png to new_tiles/16/64586/41028.png\n",
      "download: s3://railroadmaprover/16/64587/41034.png to new_tiles/16/64587/41034.png\n",
      "download: s3://railroadmaprover/16/64586/41029.png to new_tiles/16/64586/41029.png\n",
      "download: s3://railroadmaprover/16/64587/41028.png to new_tiles/16/64587/41028.png\n",
      "download: s3://railroadmaprover/16/64587/41027.png to new_tiles/16/64587/41027.png\n",
      "download: s3://railroadmaprover/16/64588/41023.png to new_tiles/16/64588/41023.png\n",
      "download: s3://railroadmaprover/16/64588/41027.png to new_tiles/16/64588/41027.png\n",
      "download: s3://railroadmaprover/16/64588/41022.png to new_tiles/16/64588/41022.png\n",
      "download: s3://railroadmaprover/16/64588/41026.png to new_tiles/16/64588/41026.png\n",
      "download: s3://railroadmaprover/16/64589/41020.png to new_tiles/16/64589/41020.png\n",
      "download: s3://railroadmaprover/16/64589/41019.png to new_tiles/16/64589/41019.png\n",
      "download: s3://railroadmaprover/16/64589/41026.png to new_tiles/16/64589/41026.png\n",
      "download: s3://railroadmaprover/16/64589/41022.png to new_tiles/16/64589/41022.png\n",
      "download: s3://railroadmaprover/16/64590/41018.png to new_tiles/16/64590/41018.png\n",
      "download: s3://railroadmaprover/16/64590/41023.png to new_tiles/16/64590/41023.png\n",
      "download: s3://railroadmaprover/16/64589/41021.png to new_tiles/16/64589/41021.png\n",
      "download: s3://railroadmaprover/16/64590/41012.png to new_tiles/16/64590/41012.png\n",
      "download: s3://railroadmaprover/16/64590/41019.png to new_tiles/16/64590/41019.png\n",
      "download: s3://railroadmaprover/16/64590/41026.png to new_tiles/16/64590/41026.png\n",
      "download: s3://railroadmaprover/16/64590/41025.png to new_tiles/16/64590/41025.png\n",
      "download: s3://railroadmaprover/16/64591/41022.png to new_tiles/16/64591/41022.png\n",
      "download: s3://railroadmaprover/16/64591/41024.png to new_tiles/16/64591/41024.png\n",
      "download: s3://railroadmaprover/16/64590/41024.png to new_tiles/16/64590/41024.png\n",
      "download: s3://railroadmaprover/16/64591/41020.png to new_tiles/16/64591/41020.png\n",
      "download: s3://railroadmaprover/16/64591/41023.png to new_tiles/16/64591/41023.png\n",
      "download: s3://railroadmaprover/16/64591/41025.png to new_tiles/16/64591/41025.png\n",
      "download: s3://railroadmaprover/16/64591/41021.png to new_tiles/16/64591/41021.png\n",
      "download: s3://railroadmaprover/16/64592/41016.png to new_tiles/16/64592/41016.png\n",
      "download: s3://railroadmaprover/16/64592/41014.png to new_tiles/16/64592/41014.png\n",
      "download: s3://railroadmaprover/16/64592/41024.png to new_tiles/16/64592/41024.png\n",
      "download: s3://railroadmaprover/16/64592/41015.png to new_tiles/16/64592/41015.png\n",
      "download: s3://railroadmaprover/16/64592/41023.png to new_tiles/16/64592/41023.png\n",
      "download: s3://railroadmaprover/16/64593/41023.png to new_tiles/16/64593/41023.png\n",
      "download: s3://railroadmaprover/16/64592/41017.png to new_tiles/16/64592/41017.png\n",
      "download: s3://railroadmaprover/16/64592/41019.png to new_tiles/16/64592/41019.png\n",
      "download: s3://railroadmaprover/16/64593/41013.png to new_tiles/16/64593/41013.png\n",
      "download: s3://railroadmaprover/16/64592/41020.png to new_tiles/16/64592/41020.png\n",
      "download: s3://railroadmaprover/16/64593/41012.png to new_tiles/16/64593/41012.png\n",
      "download: s3://railroadmaprover/16/64597/41015.png to new_tiles/16/64597/41015.png\n",
      "download: s3://railroadmaprover/16/64596/41021.png to new_tiles/16/64596/41021.png\n",
      "download: s3://railroadmaprover/16/64598/41017.png to new_tiles/16/64598/41017.png\n"
     ]
    }
   ],
   "source": [
    "!aws s3 cp s3://railroadmaprover/16 ./new_tiles/16 --recursive\n",
    "    "
   ]
  },
  {
   "cell_type": "code",
   "execution_count": 6,
   "metadata": {},
   "outputs": [
    {
     "name": "stdout",
     "output_type": "stream",
     "text": [
      "the number of downloaded images: 71\n",
      "the number of updated images: 71\n"
     ]
    },
    {
     "data": {
      "text/plain": [
       "(None, None)"
      ]
     },
     "execution_count": 6,
     "metadata": {},
     "output_type": "execute_result"
    }
   ],
   "source": [
    "\"\"\"\n",
    "working directory must be the folder where images are downloaded from S3\n",
    "initiall, create 'archive.txt' file with empty in the working directory\n",
    "\"\"\"\n",
    "import os\n",
    "os.chdir('./new_tiles')\n",
    "\n",
    "working_dir = '.'\n",
    "tile_collection_dir = '../tile_collection'\n",
    "\n",
    "\n",
    "\n",
    "def tile_collect(working_dir, tile_collection_dir):\n",
    "    \"\"\"\n",
    "    Parameters:\n",
    "    - working_dir: directory path where images are downloaded from S3\n",
    "    - tile_collection_dir: path where images will be saved for trining model\n",
    "    Do not make tile_collection directory in the currrent working dir.\n",
    "    Output & result : \n",
    "    - print the number of downloaded images from S3\n",
    "    - print the number of updated images for training model\n",
    "    - updated files are moving to tile_collection_dir\n",
    "    - delete downloaded images from S3 \n",
    "    \"\"\"\n",
    "    import os\n",
    "    os.chdir(working_dir)\n",
    "    \n",
    "###--- change tile names using Z,X,Y (e.g) 18_1234_6789.png\n",
    "    Z = [z for z in os.listdir('.') if os.path.isfile(z)==False]\n",
    "    path = os.getcwd()\n",
    "    \n",
    "    for level in Z:\n",
    "        for X in os.listdir(level):\n",
    "            for Y in os.listdir(level + '/' + X):   \n",
    "                os.rename(os.path.join(path,level,X,Y), \n",
    "                      os.path.join(path, level, X, level + '_' + X + '_' + Y))\n",
    "                \n",
    "                \n",
    "###--- build list of collected tile names (save as a set)\n",
    "    current_tiles = []\n",
    "    for level in Z:\n",
    "        for X in os.listdir(level):\n",
    "            for Y in os.listdir(level + '/' + X):\n",
    "                current_tiles.append(Y)\n",
    "                 \n",
    "    current_tiles = set(current_tiles)\n",
    "    num_downloaded_img = len(current_tiles)\n",
    "\n",
    " \n",
    "###--- Load archive.txt and compare to new_tiles    \n",
    "    archive = set(line.strip() for line in open('archive.txt'))   # open as set   \n",
    "    new_tiles =  current_tiles.difference(archive)       # only new tiles\n",
    "#    print('the number of updated images: {}'.format(len(new_tiles))\n",
    "    num_updated_img = len(new_tiles)\n",
    "\n",
    "\n",
    "###--- Move new tiles to 'tile_collection' directory\n",
    "    import shutil\n",
    "\n",
    "    for level in Z:\n",
    "        for X in os.listdir(level):\n",
    "           for Y in os.listdir(level + '/' + X):\n",
    "               if Y in new_tiles:\n",
    "                   path_ZXY = os.path.join(path, level, X, Y)               \n",
    "                   shutil.move(path_ZXY, tile_collection_dir)\n",
    "                \n",
    "###---  update archive.txt\n",
    "\n",
    "    updated_archive = archive.union(new_tiles)\n",
    "\n",
    "    with open('archive.txt', 'w') as archive:\n",
    "        for file in list(updated_archive):\n",
    "            print(file, file = archive)\n",
    "            \n",
    "###---  empty current directory \n",
    "    for level_dir in Z:\n",
    "        path_level_dir = os.path.join(path, level_dir)            \n",
    "        shutil.rmtree(path_level_dir, ignore_errors=True)\n",
    "    \n",
    "    a = print('the number of downloaded images: {}'.format(num_downloaded_img))\n",
    "    b = print('the number of updated images: {}'.format(num_updated_img))     \n",
    "    \n",
    "    return a, b\n",
    "    \n",
    "\n",
    "\n",
    "\n",
    "\n",
    "tile_collect(working_dir, tile_collection_dir)\n",
    "\n",
    "    \n",
    "\n",
    "\n",
    "\n",
    "\n",
    " \n",
    "\n",
    "\n",
    "\n",
    "\n",
    "\n"
   ]
  },
  {
   "cell_type": "code",
   "execution_count": 7,
   "metadata": {},
   "outputs": [],
   "source": [
    "os.chdir('../tile_collection')"
   ]
  },
  {
   "cell_type": "code",
   "execution_count": null,
   "metadata": {},
   "outputs": [],
   "source": [
    "!pwd"
   ]
  },
  {
   "cell_type": "code",
   "execution_count": null,
   "metadata": {},
   "outputs": [],
   "source": [
    "! pip install Keras"
   ]
  },
  {
   "cell_type": "code",
   "execution_count": 10,
   "metadata": {},
   "outputs": [
    {
     "name": "stderr",
     "output_type": "stream",
     "text": [
      "Using TensorFlow backend.\n"
     ]
    }
   ],
   "source": [
    "\"\"\"\n",
    "Require to have 'classifier.h5' file in working directory\n",
    "\"\"\"\n",
    "\n",
    "import os\n",
    "import glob\n",
    "\n",
    "from keras.models import load_model\n",
    "from keras.preprocessing import image\n",
    "import shutil\n",
    "import numpy as np\n",
    "\n",
    "###--- path of tile_collection,\n",
    "#              Rail where railroad images will be saved and\n",
    "#              Other where other images will be saved\n",
    "\n",
    "Rail_Img_dir = './Rail/'\n",
    "Other_Img_dir = './Others/'\n",
    "\n",
    "\n",
    "###---- list of tiles to be separated to 'Rail' and 'Other'\n",
    "\n",
    "\n",
    "path_where_tiles_are = glob.glob(os.path.join(tile_collection_dir, '*.png'))\n",
    "\n",
    "###--- load classifier and pass tiles to separate classes\n",
    "classifier = load_model('classifier.h5')\n",
    "classifier.compile(loss = 'categorical_crossentropy', optimizer = 'rmsprop', metrics=['accuracy'])\n",
    "\n",
    "for raw_img in path_where_tiles_are:\n",
    "    #-- image processing\n",
    "    img_width, img_height = 256, 256\n",
    "    img = image.load_img(raw_img, target_size=(img_width, img_height))\n",
    "    img = image.img_to_array(img)/255.\n",
    "    img = np.expand_dims(img, axis=0)\n",
    "\n",
    "    pred = classifier.predict_classes(img)\n",
    "\n",
    "    if pred[0] == 1:\n",
    "        shutil.move(raw_img,  Rail_Img_dir)\n",
    "    elif pred[0] == 0:\n",
    "        shutil.move(raw_img, Other_Img_dir)"
   ]
  },
  {
   "cell_type": "code",
   "execution_count": null,
   "metadata": {},
   "outputs": [],
   "source": [
    "import keras"
   ]
  },
  {
   "cell_type": "code",
   "execution_count": null,
   "metadata": {},
   "outputs": [],
   "source": []
  }
 ],
 "metadata": {
  "kernelspec": {
   "display_name": "Python 3",
   "language": "python",
   "name": "python3"
  },
  "language_info": {
   "codemirror_mode": {
    "name": "ipython",
    "version": 3
   },
   "file_extension": ".py",
   "mimetype": "text/x-python",
   "name": "python",
   "nbconvert_exporter": "python",
   "pygments_lexer": "ipython3",
   "version": "3.6.8"
  }
 },
 "nbformat": 4,
 "nbformat_minor": 2
}
